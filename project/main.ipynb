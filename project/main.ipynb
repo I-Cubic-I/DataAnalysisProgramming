{
 "cells": [
  {
   "cell_type": "markdown",
   "id": "097d9ac0",
   "metadata": {},
   "source": [
    "# 데이터 명세\n",
    "\n",
    "## 데이터 파일의 구조\n",
    "\n",
    "---\n",
    "\n",
    "파일 구조를 더 깊게 표기하지 않은 폴더는 하위 파일 또는 폴더가 너무 많기 때문에 생략한다.\n",
    "\n",
    "data/  \n",
    "└── 한국어 음성/  \n",
    "　　　├── 전시문_통합_스크립트/ - 음성 데이터의 파일명과 해당 데이터의 전사문이 나열된 trn 파일을 담는 폴더  \n",
    "　　　│　　├── dev.trn  \n",
    "　　　│　　├── eval_clean.trn  - 평가용 스크립트  \n",
    "　　　│　　├── eval_other.trn  \n",
    "　　　│　　└── train.trn - 학습용 스크립트  \n",
    "　　　├── 평가용_데이터/ - 오롯이 pcm 파일로만 이뤄진 평가용 데이터셋 폴더  \n",
    "　　　│　　├── eval_clean/  \n",
    "　　　│　　└── eval_other/  \n",
    "　　　└── 한국어_음성_분야/ - 학습에 사용할 음성 데이터와 전사문들이 담긴 폴더  \n",
    "　　　　　　├── KsponSpeech_01/ - 각 폴더에는 1000개의 데이터를 담고 있는 약 125개의 폴더가 들어있다.  \n",
    "　　　　　　├── KsponSpeech_02/  \n",
    "　　　　　　├── // KsponSpeech_03/ - 한 데이터셋의 용량이 15GB를 넘어 일부만 사용하기로 하였다.  \n",
    "　　　　　　├── // KsponSpeech_04/  \n",
    "　　　　　　└── // KsponSpeech_05/  \n",
    "\n",
    "\n",
    "## .pcm?\n",
    "\n",
    "---\n",
    "\n",
    "PCM(Pulse Code Modulation)은 아날로그 음파를 디지털로 변환하는 방식 중 하나로,  \n",
    "'.pcm' 확장자를 사용하는 오디오 파일은 압축되지 않은 원시 디지털 오디오 파일임을 나타낸다.  \n",
    "이 방식을 사용하는 대표적인 확장자가 '.wav', '.mp3'이다.\n",
    "\n",
    "pcm은 기본적으로 보통 Windows 미디어 플레이어를 사용해 재생할 수 없기에 직접 들어 볼 수 있도록  \n",
    "해당 데이터를 사용하기 전, wav 파일로 변환하는 전처리 과정을 거치고자 한다.\n",
    "\n",
    "\n",
    "## 전사문\n",
    "\n",
    "---\n",
    "\n",
    "음성 데이터 녹음이 끝난 후 'DB 구축을 위한 전사 가이드라인'에 따라 대화음성 전사를 진행하였다고 한다.  \n",
    "아래는 전사문 파일의 예이다.\n",
    "\n",
    "> o/ 어, 막/ 근데 사람이 너무 많아* 나도 나 한/ b/ (12시)/(열 두 시) 반부터 점심시간이니까, b/ 사람이 너무 많아갖고* 저번에는 위에 갔었어.  \n",
    "b/ 그/ 현백 위층 (8층)/(팔 층)에 식+ 그/ 식당가 있잖아. b/ 어, 무슨 그냥 짜장면 먹었어. 위에서, 먹을 게 없어가지곰 b/ 그거 먹고, 막/ b/\n",
    "\n",
    "대표적인 ETRI 전사규칙은 다음과 같다.  \n",
    "1. 표준발성에서 벗어나거나 같은 전사에 대하여 두 가지 이상 발음이 가능한 경우 발음전사와 철자전사를 병행하며,  \n",
    "    이 경우 (철자전사)/(발음전사)로 표기한다 (이 문서에서 향후 이를 '이중전사'라칭한다).  \n",
    "    예) (컴퓨터)/(컴퓨타)\n",
    "    \n",
    "    \n",
    "2. 발음전사: 발성된 내용을 소리 값에 최대한 가깝게 표기한다. 이는 음성인식의 음향모델링을 주된 목적으로 한다.\n",
    "\n",
    "\n",
    "3. 철자전사: 표준어법에 맞게 표기한다. 이는 음성인식의 언어모델링 등을 주된 목적으로 한다.\n",
    "\n",
    "\n",
    "4. 숫자, 외래어, 기호, 도량형 및 온도 단위는 발음 전사를 수행하되, 별도의 목록표를 생성하여 발음 전사별로 해당되는 표준 표기를 명시한다.\n",
    "\n",
    "\n",
    "5. 이중전사를 하거나 연속 숫자 등을 전사할 때, 이중전사 또는 연속 숫자 등의 범위를 표시하기 위해 괄호(‘(‘, ‘)’, ‘[‘, ‘]’)를 사용한다.\n",
    "\n",
    "- 잡음  \n",
    "    전사문에 사용된 잡음 표시는 학습에 큰 영향을 주지 않기 때문에 모두 제거해 줄 것이다.\n",
    "    - b/ : 숨소리\n",
    "    - l/ : 웃음 소리\n",
    "    - o/ : 다른 사람의 말 소리가 포함된 경우 맨 앞에 표기\n",
    "    - n/ : 주변의 잡음\n",
    "\n",
    "\n",
    "- 간투어 표현  \n",
    "    발성자가 다음 발성을 준비하기 위해 발성하는 의미없는 단어이다. '아. 그. 어. 음. 저.' 등이 있다.\n",
    "    간투어 뒤에 '/'를 붙여 표기한다. 이는 음성 인식에 영향을 주기에 '/'만 제거할 것이다.\n",
    "    \n",
    "    \n",
    "- 알아듣기 힘든 발음  \n",
    "    - 잘 알아 듣기 힘들 때 뒷부분에 '*'를 붙여 이중전사한다. 명확히 발성된 경우는 붙이지 않는다.  \n",
    "      알아듣기 힘든 발음은 'u/'로 표기한다. 이또한 제거를 해줄 것이다.\n",
    "    \n",
    "    - 불필요하게 중복 또는 잘못 발성된 부분은 뒤에 '+'를 붙인다.\n",
    "\n",
    "\n",
    "- 이중전사\n",
    "    (A)/(B)와 같이 표기한다. A는 올바르게 작성한 '철자전사'이고, B는 발음 그대로 작성한 '발음전사'이다.  \n",
    "    이런 특수 표기는 학습에 방해가 될 수 있기에 둘 중 하나를 제거해야 한다.  \n",
    "    이는 각각 따로 진행해볼 것이다."
   ]
  },
  {
   "cell_type": "markdown",
   "id": "ef5a3dbf",
   "metadata": {},
   "source": [
    "# 데이터 시각화\n",
    "\n",
    "## pcm2wav\n",
    "\n",
    "---\n",
    "\n",
    "음성 데이터가 실제로 어떻게 녹음되었는지 확인해 보기 위해 pcm 파일을 wav 확장자로 변환해보기로 한다.\n",
    "\n",
    "soundfile 모듈을 사용해서 읽어들인 pcm 데이터를 check_pcm 폴더에 저장했다."
   ]
  },
  {
   "cell_type": "code",
   "execution_count": 1,
   "id": "d875d36c",
   "metadata": {},
   "outputs": [],
   "source": [
    "import soundfile as sf\n",
    "import numpy as np\n",
    "import librosa\n",
    "import os"
   ]
  },
  {
   "cell_type": "code",
   "execution_count": 8,
   "id": "b3fddb3b",
   "metadata": {},
   "outputs": [],
   "source": [
    "def read_pcm(file, _filter=None):    \n",
    "    with open(file, 'rb') as pcm_file:\n",
    "        buf = pcm_file.read()\n",
    "        pcm_data = np.frombuffer(buf, dtype='int16')\n",
    "        wav_data = librosa.util.buf_to_float(pcm_data, 2)\n",
    "        if _filter is not None:\n",
    "            wav_data = _filter(wav_data)\n",
    "        \n",
    "    return wav_data"
   ]
  },
  {
   "cell_type": "code",
   "execution_count": 10,
   "id": "9bc7a8ee",
   "metadata": {
    "scrolled": false
   },
   "outputs": [],
   "source": [
    "sample_dir = 'data/한국어 음성/한국어_음성_분야/KsponSpeech_01/KsponSpeech_0001/'\n",
    "data_dir = 'check_pcm/'\n",
    "for file in os.listdir(sample_dir):\n",
    "    fileName, fileExtension = os.path.splitext(file)\n",
    "    if fileExtension == '.pcm':\n",
    "        wav_data = read_pcm(sample_dir+file)\n",
    "        sf.write(os.path.join(data_dir, fileName+'.wav'), wav_data, 16000, format='WAV', endian=\"LITTLE\", subtype=\"PCM_16\")"
   ]
  },
  {
   "cell_type": "markdown",
   "id": "edb31dc7",
   "metadata": {},
   "source": [
    "## Waveform 시각화\n",
    "\n",
    "---\n",
    "\n",
    "numpy 모듈의 frombuffer 함수와 librosa의 buf_to_float 함수를 통해 pcm 파일을 쉽게 디코딩할 수 있다.  \n",
    "이렇게 나온 float 배열을 matplotlib으로 시각화 해보았다"
   ]
  },
  {
   "cell_type": "code",
   "execution_count": 198,
   "id": "a72915ec",
   "metadata": {
    "scrolled": false
   },
   "outputs": [
    {
     "data": {
      "image/png": "[encoded data removed]",
      "text/plain": [
       "<Figure size 576x72 with 1 Axes>"
      ]
     },
     "metadata": {
      "needs_background": "light"
     },
     "output_type": "display_data"
    },
    {
     "data": {
      "image/png": "[encoded data removed]",
      "text/plain": [
       "<Figure size 576x72 with 1 Axes>"
      ]
     },
     "metadata": {
      "needs_background": "light"
     },
     "output_type": "display_data"
    }
   ],
   "source": [
    "def view_waveform(file):\n",
    "    import matplotlib.pyplot as plt\n",
    "\n",
    "    wav_data = read_pcm(file)\n",
    "        \n",
    "    plt.figure(figsize=(8,1))\n",
    "    plt.plot(wav_data)\n",
    "    plt.show()\n",
    "        \n",
    "view_waveform('data/한국어 음성/한국어_음성_분야/KsponSpeech_01/KsponSpeech_0001/KsponSpeech_000027.pcm')\n",
    "view_waveform('data/한국어 음성/한국어_음성_분야/KsponSpeech_01/KsponSpeech_0001/KsponSpeech_000031.pcm')"
   ]
  },
  {
   "cell_type": "markdown",
   "id": "e734ecd1",
   "metadata": {},
   "source": [
    "해당 두 데이터는 전사문에 잡음(o/)이 포함된 데이터의 waveform이다. 주요 waveform 앞뒤로 불필요한 노이즈가 붙어있음을 확인할 수 있다.  \n",
    "wav 파일의 실제 오디오를 들어보았을 때 잡음이 생각보다 음량이 작았던 걸로 보아 노이즈 필터링을 거쳐야 함을 인지했다."
   ]
  },
  {
   "cell_type": "markdown",
   "id": "513ca18c",
   "metadata": {},
   "source": [
    "# 데이터 전처리\n",
    "\n",
    "## 음성 데이터\n",
    "\n",
    "### 잡음 제거\n",
    "\n",
    "---\n",
    "\n",
    "전사문에 o/가 포함된 음성 데이터의 float 배열을 불러와 임계값 아래의 수치들을 0.1배 시켜보았다.  \n",
    "실제 노이즈 제거 방법과는 많이 다르지만 간단하게 제거가 되었다.  \n",
    "노이즈를 아예 없애진 못하였고 지직 거리는 소리로 바뀌었지만 발음이 들리는 것을 없앴다는 것에 초점을 두었다."
   ]
  },
  {
   "cell_type": "code",
   "execution_count": 222,
   "id": "a50c1ba0",
   "metadata": {
    "scrolled": true
   },
   "outputs": [],
   "source": [
    "def noise_filter(data):\n",
    "    data[abs(data) < 3.0e-03] *= 0.1\n",
    "    return data"
   ]
  },
  {
   "cell_type": "code",
   "execution_count": 226,
   "id": "4922b500",
   "metadata": {},
   "outputs": [
    {
     "name": "stdout",
     "output_type": "stream",
     "text": [
      "filtered data: 239\n"
     ]
    }
   ],
   "source": [
    "sample_dir = 'data/한국어 음성/한국어_음성_분야/KsponSpeech_01/KsponSpeech_0001/'\n",
    "data_dir = 'noise_filtered/'\n",
    "filtered = 0\n",
    "\n",
    "for file in os.listdir(sample_dir):\n",
    "    fileName, fileExtension = os.path.splitext(file)\n",
    "    if fileExtension == '.pcm':\n",
    "        with open(sample_dir+fileName+'.txt', 'r') as text_file:\n",
    "            transcribe = text_file.read()\n",
    "        if transcribe.startswith('o/'):\n",
    "            filterFunction = noise_filter\n",
    "            filtered += 1\n",
    "        else:\n",
    "            filterFunction = None\n",
    "                \n",
    "        wav_data = read_pcm(sample_dir+file, _filter=filterFunction)\n",
    "        sf.write(os.path.join(data_dir, fileName+'.wav'), wav_data, 16000, format='WAV', endian=\"LITTLE\", subtype=\"PCM_16\")\n",
    "        \n",
    "print('filtered data:', filtered)"
   ]
  },
  {
   "cell_type": "code",
   "execution_count": 255,
   "id": "f7219c6a",
   "metadata": {},
   "outputs": [
    {
     "name": "stdout",
     "output_type": "stream",
     "text": [
      "잡음 제거 전\n"
     ]
    },
    {
     "data": {
      "image/png": "[encoded data removed]",
      "text/plain": [
       "<Figure size 576x72 with 1 Axes>"
      ]
     },
     "metadata": {
      "needs_background": "light"
     },
     "output_type": "display_data"
    },
    {
     "name": "stdout",
     "output_type": "stream",
     "text": [
      "잡음 제거 후\n"
     ]
    },
    {
     "data": {
      "image/png": "[encoded data removed]",
      "text/plain": [
       "<Figure size 576x72 with 1 Axes>"
      ]
     },
     "metadata": {
      "needs_background": "light"
     },
     "output_type": "display_data"
    }
   ],
   "source": [
    "print('잡음 제거 전')\n",
    "view_waveform('data/한국어 음성/한국어_음성_분야/KsponSpeech_01/KsponSpeech_0001/KsponSpeech_000027.pcm')\n",
    "\n",
    "print('잡음 제거 후')\n",
    "plt.figure(figsize=(8,1))\n",
    "sig, sr = librosa.load('noise_filtered/KsponSpeech_000027.wav')\n",
    "plt.plot(sig)\n",
    "plt.show()"
   ]
  },
  {
   "cell_type": "markdown",
   "id": "56a1d8b6",
   "metadata": {},
   "source": [
    "# 음성 인식"
   ]
  },
  {
   "cell_type": "markdown",
   "id": "f9adaf69",
   "metadata": {},
   "source": [
    "구글의 오픈 API SpeechRecognition으로 데이터 음성 인식을 실행해보고자 한다."
   ]
  },
  {
   "cell_type": "code",
   "execution_count": 227,
   "id": "e68b3791",
   "metadata": {},
   "outputs": [
    {
     "name": "stdout",
     "output_type": "stream",
     "text": [
      "Collecting SpeechRecognition\n",
      "  Downloading SpeechRecognition-3.8.1-py2.py3-none-any.whl (32.8 MB)\n",
      "Installing collected packages: SpeechRecognition\n",
      "Successfully installed SpeechRecognition-3.8.1\n"
     ]
    }
   ],
   "source": [
    "!pip install SpeechRecognition"
   ]
  },
  {
   "cell_type": "code",
   "execution_count": 1,
   "id": "42da7398",
   "metadata": {},
   "outputs": [],
   "source": [
    "import soundfile as sf\n",
    "import numpy as np\n",
    "import librosa\n",
    "import os"
   ]
  },
  {
   "cell_type": "code",
   "execution_count": 2,
   "id": "f3c13da8",
   "metadata": {},
   "outputs": [],
   "source": [
    "import speech_recognition as sr\n",
    "\n",
    "r = sr.Recognizer()"
   ]
  },
  {
   "cell_type": "code",
   "execution_count": 3,
   "id": "1f292eec",
   "metadata": {},
   "outputs": [
    {
     "data": {
      "text/plain": [
       "'아 그건 절대로 안 할 거야'"
      ]
     },
     "execution_count": 3,
     "metadata": {},
     "output_type": "execute_result"
    }
   ],
   "source": [
    "korean_wav = sr.AudioFile('check_pcm/KsponSpeech_000031.wav')\n",
    "\n",
    "with korean_wav as source:\n",
    "    audio = r.record(source)\n",
    "\n",
    "r.recognize_google(audio_data=audio, language='ko-KR')"
   ]
  },
  {
   "cell_type": "markdown",
   "id": "fbf42b77",
   "metadata": {},
   "source": [
    "## 음성 분리하기\n",
    "출력되는 인식 결과를 바탕으로 음성 데이터를 글자별로 쪼개 글자끼리 비교해보자."
   ]
  },
  {
   "cell_type": "code",
   "execution_count": 4,
   "id": "1e424ac9",
   "metadata": {
    "code_folding": [],
    "scrolled": false
   },
   "outputs": [
    {
     "name": "stdout",
     "output_type": "stream",
     "text": [
      "아/그건 절대로 안 할 거야\n",
      "-->\n",
      "아 그거/절대로 안 할 거야\n",
      "아 그거/절대로 안 할 거야\n",
      "아 그거/절대로 안 할 거야\n",
      "아 그건/절대로 안 할 거야\n",
      "-->\n",
      "벌떼/할까\n",
      "벌떼/할 거야\n",
      "절대/할 거야\n"
     ]
    }
   ],
   "source": [
    "def split_wav(wav_data, sentence):\n",
    "    window = 0\n",
    "    while True:\n",
    "        window += 500\n",
    "        sf.write(os.path.join('temp/split_1.wav'), wav_data[:window], 16000, format='WAV', endian=\"LITTLE\", subtype=\"PCM_16\")\n",
    "        sf.write(os.path.join('temp/split_2.wav'), wav_data[window:], 16000, format='WAV', endian=\"LITTLE\", subtype=\"PCM_16\")\n",
    "        \n",
    "        wav = sr.AudioFile('temp/split_1.wav')\n",
    "        with wav as src1:\n",
    "            audio = r.record(src1)\n",
    "            try:\n",
    "                r1 = r.recognize_google(audio_data=audio, language='ko-KR')\n",
    "            except:\n",
    "                continue\n",
    "\n",
    "        wav = sr.AudioFile('temp/split_2.wav')\n",
    "        with wav as src2:\n",
    "            audio = r.record(src2)\n",
    "            try:\n",
    "                r2 = r.recognize_google(audio_data=audio, language='ko-KR')\n",
    "            except:\n",
    "                break \n",
    "        \n",
    "        if (sentence.endswith(r1 + ' ' + r2)):\n",
    "            wav_data = wav_data[window:]\n",
    "            window = 0\n",
    "        \n",
    "wav_data = librosa.util.buf_to_float(audio.get_wav_data(), 2)\n",
    "output = r.recognize_google(audio_data=audio, language='ko-KR')    \n",
    "word = split_wav(wav_data, output)"
   ]
  },
  {
   "cell_type": "code",
   "execution_count": null,
   "id": "5b614c2c",
   "metadata": {},
   "outputs": [],
   "source": []
  }
 ],
 "metadata": {
  "kernelspec": {
   "display_name": "Python 3 (ipykernel)",
   "language": "python",
   "name": "python3"
  },
  "language_info": {
   "codemirror_mode": {
    "name": "ipython",
    "version": 3
   },
   "file_extension": ".py",
   "mimetype": "text/x-python",
   "name": "python",
   "nbconvert_exporter": "python",
   "pygments_lexer": "ipython3",
   "version": "3.7.6"
  },
  "toc": {
   "base_numbering": 1,
   "nav_menu": {},
   "number_sections": true,
   "sideBar": true,
   "skip_h1_title": false,
   "title_cell": "Table of Contents",
   "title_sidebar": "Contents",
   "toc_cell": false,
   "toc_position": {},
   "toc_section_display": true,
   "toc_window_display": false
  },
  "varInspector": {
   "cols": {
    "lenName": 16,
    "lenType": 16,
    "lenVar": 40
   },
   "kernels_config": {
    "python": {
     "delete_cmd_postfix": "",
     "delete_cmd_prefix": "del ",
     "library": "var_list.py",
     "varRefreshCmd": "print(var_dic_list())"
    },
    "r": {
     "delete_cmd_postfix": ") ",
     "delete_cmd_prefix": "rm(",
     "library": "var_list.r",
     "varRefreshCmd": "cat(var_dic_list()) "
    }
   },
   "types_to_exclude": [
    "module",
    "function",
    "builtin_function_or_method",
    "instance",
    "_Feature"
   ],
   "window_display": false
  }
 },
 "nbformat": 4,
 "nbformat_minor": 5
}
